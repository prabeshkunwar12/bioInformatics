{
 "cells": [
  {
   "cell_type": "code",
   "execution_count": 9,
   "metadata": {},
   "outputs": [],
   "source": [
    "import numpy as np\n",
    "import math\n",
    "import matplotlib.pyplot as plt\n",
    "from sklearn.manifold import MDS\n",
    "from sklearn.datasets import load_digits\n",
    "import matplotlib.pyplot as plt\n",
    "from scipy.spatial.distance import pdist, squareform"
   ]
  },
  {
   "cell_type": "code",
   "execution_count": 1,
   "metadata": {},
   "outputs": [
    {
     "name": "stdout",
     "output_type": "stream",
     "text": [
      "{'A': [1, 2, 1, 0, 0, 2], 'C': [2, 1, 4, 2, 0, 0], 'G': [1, 1, 0, 2, 1, 1], 'T': [1, 1, 0, 1, 4, 2]}\n"
     ]
    }
   ],
   "source": [
    "def count(motifs):\n",
    "    count = {}\n",
    "    k = len(motifs[0])\n",
    "    for symbol in 'ACGT':\n",
    "        count[symbol] = []\n",
    "        for i in range(k):\n",
    "            count[symbol].append(0)\n",
    "    t = len(motifs)\n",
    "    for i in range(t):\n",
    "        for j in range(k):\n",
    "            symbol = motifs[i][j]\n",
    "            count[symbol][j] += 1 \n",
    "    return count"
   ]
  },
  {
   "cell_type": "code",
   "execution_count": 5,
   "metadata": {},
   "outputs": [
    {
     "name": "stdout",
     "output_type": "stream",
     "text": [
      "{'A': [0.1, 0.2, 0.1, 0.0, 0.0, 0.2], 'C': [0.2, 0.1, 0.4, 0.2, 0.0, 0.0], 'G': [0.1, 0.1, 0.0, 0.2, 0.1, 0.1], 'T': [0.1, 0.1, 0.0, 0.1, 0.4, 0.2]}\n"
     ]
    }
   ],
   "source": [
    "def profile(motifs):\n",
    "    profile = {}\n",
    "    c = count(motifs)\n",
    "    for key in c:\n",
    "        profile[key] = []\n",
    "        for i in range(len(c[key])):\n",
    "            profile[key].append(c[key][i]/10)\n",
    "    return profile\n"
   ]
  },
  {
   "cell_type": "code",
   "execution_count": 7,
   "metadata": {},
   "outputs": [
    {
     "name": "stdout",
     "output_type": "stream",
     "text": [
      "CACCTA\n"
     ]
    }
   ],
   "source": [
    "def consensus(motifs):\n",
    "    k = len(motifs[0])\n",
    "    c = count(motifs)\n",
    "    consensus = \"\"\n",
    "    for j in range(k):\n",
    "        selected_symbol = \"\"\n",
    "        max_count = 0\n",
    "        for symbol in \"ACGT\":\n",
    "            if c[symbol][j] > max_count:\n",
    "                max_count = c[symbol][j]\n",
    "                selected_symbol = symbol\n",
    "        consensus += selected_symbol\n",
    "    return consensus"
   ]
  },
  {
   "cell_type": "code",
   "execution_count": 8,
   "metadata": {},
   "outputs": [
    {
     "name": "stdout",
     "output_type": "stream",
     "text": [
      "14\n"
     ]
    }
   ],
   "source": [
    "def score(motifs):\n",
    "    k = len(motifs[0])\n",
    "    t = len(motifs)\n",
    "    c = consensus(motifs)\n",
    "    s = 0\n",
    "    for i in range(t):\n",
    "        for j in range(k):\n",
    "            if motifs[i][j] != c[j]:\n",
    "                s += 1\n",
    "    return s\n",
    "\n",
    "input = [\"AACGTA\",\"CCCGTT\", \"CACCTT\",\"GGATTA\",\"TTCCGG\"]\n",
    "print(score(input))"
   ]
  },
  {
   "cell_type": "code",
   "execution_count": 24,
   "metadata": {},
   "outputs": [
    {
     "name": "stdout",
     "output_type": "stream",
     "text": [
      "7.165784284662087\n"
     ]
    }
   ],
   "source": [
    "def entropy(motifs):\n",
    "    k = len(motifs[0])\n",
    "    p = profile(motifs)\n",
    "    e = 0\n",
    "    for i in range(k):\n",
    "        score = 0\n",
    "        for symbol in \"ACGT\":\n",
    "            if p[symbol][i] != 0 and p[symbol][i] != 1:\n",
    "                score += -(p[symbol][i] * math.log(p[symbol][i], 2))\n",
    "        e += score   \n",
    "    return e\n",
    "\n",
    "input = [\"AACGTA\",\"CCCGTT\", \"CACCTT\",\"GGATTA\",\"TTCCGG\"]\n",
    "print(entropy(input))"
   ]
  },
  {
   "cell_type": "code",
   "execution_count": null,
   "metadata": {},
   "outputs": [],
   "source": [
    "def pr(pattern, profile):\n",
    "    k = len(pattern)\n",
    "    product = 1\n",
    "    for i in range(k):\n",
    "        product *= profile[pattern[i]][i]\n",
    "    return product\n",
    "\n",
    "def profile_most_probable_kmer(text, k, profile):\n",
    "    score_highest = -1\n",
    "    pattern_highest = \"\"\n",
    "    for i in range(len(text) - k + 1):\n",
    "        score = pr(text[i:i+k], profile)\n",
    "        if score > score_highest:\n",
    "            score_highest = score\n",
    "            pattern_highest = text[i:i+k]\n",
    "    return pattern_highest\n"
   ]
  },
  {
   "cell_type": "code",
   "execution_count": null,
   "metadata": {},
   "outputs": [],
   "source": [
    "def greedy_motif_search(dna, k, t):\n",
    "    best_motifs = []\n",
    "    for i in range(0, t):\n",
    "        best_motifs.append(dna[i][0:k])\n",
    "    n = len(dna[0])\n",
    "    for i in range(n-k+1):\n",
    "        motifs = []\n",
    "        motifs.append(dna[0][i:i+k])\n",
    "        for j in range(1, t):\n",
    "            p = profile(motifs[0:j])\n",
    "            motifs.append(profile_most_probable_kmer(dna[j], k, p))\n",
    "        if score(motifs) < score(best_motifs):\n",
    "            best_motifs = motifs\n",
    "    return best_motifs"
   ]
  }
 ],
 "metadata": {
  "kernelspec": {
   "display_name": "Python 3",
   "language": "python",
   "name": "python3"
  },
  "language_info": {
   "codemirror_mode": {
    "name": "ipython",
    "version": 3
   },
   "file_extension": ".py",
   "mimetype": "text/x-python",
   "name": "python",
   "nbconvert_exporter": "python",
   "pygments_lexer": "ipython3",
   "version": "3.11.8"
  }
 },
 "nbformat": 4,
 "nbformat_minor": 2
}
